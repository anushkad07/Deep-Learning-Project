{
 "cells": [
  {
   "cell_type": "code",
   "execution_count": 1,
   "metadata": {},
   "outputs": [],
   "source": [
    "import torch as nn\n",
    "import numpy as np\n",
    "import pandas as pd"
   ]
  },
  {
   "cell_type": "code",
   "execution_count": 2,
   "metadata": {},
   "outputs": [],
   "source": [
    "import torch\n",
    "import torch.nn as nn\n",
    "import torch.optim as optim\n",
    "import torch.nn.functional as F\n",
    "from torch.utils.data import DataLoader, Dataset\n",
    "\n",
    "class SingleScoreCNN(nn.Module):\n",
    "    def __init__(self):\n",
    "        super(SingleScoreCNN, self).__init__()\n",
    "        # Define the layers of the CNN\n",
    "        self.conv1 = nn.Conv2d(in_channels=3, out_channels=16, kernel_size=3, stride=1, padding=1)\n",
    "        self.conv2 = nn.Conv2d(in_channels=16, out_channels=32, kernel_size=3, stride=1, padding=1)\n",
    "        self.conv3 = nn.Conv2d(in_channels=32, out_channels=64, kernel_size=3, stride=1, padding=1)\n",
    "        self.fc1 = nn.Linear(64 * 8 * 8, 64 * 8)  # Adjust the size based on the input size\n",
    "        self.fc2 = nn.Linear(64 * 8, 64 * 2)  \n",
    "        self.fc3 = nn.Linear(64 * 2, 64) \n",
    "        self.fc4 = nn.Linear(64, 1)\n",
    "    \n",
    "    def forward(self, x):\n",
    "        # Define the forward pass\n",
    "        x = F.relu(self.conv1(x))\n",
    "        x = F.max_pool2d(x, 2)\n",
    "        x = F.relu(self.conv2(x))\n",
    "        x = F.max_pool2d(x, 2)\n",
    "        x = F.relu(self.conv3(x))\n",
    "        x = F.max_pool2d(x, 2)\n",
    "        x = x.view(x.size(0), -1)  # Flatten the tensor\n",
    "        x = F.relu(self.fc1(x))\n",
    "        x = F.leaky_relu(self.fc2(x))\n",
    "        x = F.tanh(self.fc3(x))\n",
    "        x = self.fc4(x)\n",
    "        return x\n",
    "\n",
    "# Example usage:\n",
    "model = SingleScoreCNN()\n",
    "output = model(torch.randn(1, 3, 64, 64))  # Example input tensor (batch_size, channels, height, width)\n",
    "\n",
    "# Define the loss and optimizer\n",
    "criterion = nn.MSELoss()  # For example, if it's a regression task\n",
    "optimizer = optim.Adam(model.parameters(), lr=0.001)"
   ]
  },
  {
   "cell_type": "code",
   "execution_count": 3,
   "metadata": {},
   "outputs": [
    {
     "name": "stderr",
     "output_type": "stream",
     "text": [
      "/Applications/Anaconda/anaconda3/lib/python3.9/site-packages/torchvision/io/image.py:13: UserWarning: Failed to load image Python extension: 'dlopen(/Applications/Anaconda/anaconda3/lib/python3.9/site-packages/torchvision/image.so, 0x0006): Symbol not found: __ZN3c1017RegisterOperatorsD1Ev\n",
      "  Referenced from: <9096C4C6-0664-3775-B06F-54E79C6B0E3F> /Applications/Anaconda/anaconda3/lib/python3.9/site-packages/torchvision/image.so\n",
      "  Expected in:     <E459C462-F863-3A5A-AC9F-FD77B14BE845> /Applications/Anaconda/anaconda3/lib/python3.9/site-packages/torch/lib/libtorch_cpu.dylib'If you don't plan on using image functionality from `torchvision.io`, you can ignore this warning. Otherwise, there might be something wrong with your environment. Did you have `libjpeg` or `libpng` installed before building `torchvision` from source?\n",
      "  warn(\n"
     ]
    }
   ],
   "source": [
    "import os\n",
    "import pandas as pd\n",
    "from PIL import Image\n",
    "import torch\n",
    "from torch.utils.data import Dataset, DataLoader\n",
    "import torchvision.transforms as transforms\n",
    "\n",
    "class MeasuresDataset(Dataset):\n",
    "    def __init__(self, csv_file, image_dir, transform=None):\n",
    "        self.data = pd.read_csv(csv_file)\n",
    "        self.image_dir = image_dir\n",
    "        self.transform = transform\n",
    "\n",
    "    def __len__(self):\n",
    "        return len(self.data)\n",
    "\n",
    "    def __getitem__(self, idx):\n",
    "        page = str(int(self.data.iloc[idx]['Page']))\n",
    "        label = self.data.iloc[idx]['Final Score']\n",
    "        \n",
    "        img_path = os.path.join(self.image_dir, f\"{page}.jpg\")\n",
    "        # print(page, label, img_path)\n",
    "        image = Image.open(img_path).convert('RGB')\n",
    "        \n",
    "        # Apply transformations, if provided\n",
    "        if self.transform:\n",
    "            image = self.transform(image)\n",
    "        \n",
    "        return image, torch.tensor(label, dtype=torch.float)\n",
    "\n",
    "\n",
    "transform = transforms.Compose([\n",
    "    transforms.Resize((64, 64)),  # Resize to the size expected by the network\n",
    "    transforms.ToTensor()\n",
    "])\n",
    "\n",
    "dataset = MeasuresDataset(csv_file='measures.csv', image_dir='./combined', transform=transform)\n",
    "# dataset = MeasuresDataset(csv_file='measures.csv', image_dir='./', transform=transform)\n",
    "dataloader = DataLoader(dataset, batch_size=32, shuffle=True)\n",
    "\n",
    "# Iterate over the dataloader\n",
    "# for images, labels in dataloader:\n",
    "#     # Feed data to the model\n",
    "#     output = model(images)\n",
    "#     # Compute the loss, etc.\n",
    "#     print(output, labels)"
   ]
  },
  {
   "cell_type": "code",
   "execution_count": 5,
   "metadata": {},
   "outputs": [
    {
     "name": "stdout",
     "output_type": "stream",
     "text": [
      "Epoch [1/20], MSE Loss: 0.0194\n",
      "Epoch [2/20], MSE Loss: 0.0142\n",
      "Epoch [3/20], MSE Loss: 0.0134\n",
      "Epoch [4/20], MSE Loss: 0.0125\n",
      "Epoch [5/20], MSE Loss: 0.0117\n",
      "Epoch [6/20], MSE Loss: 0.0114\n",
      "Epoch [7/20], MSE Loss: 0.0110\n",
      "Epoch [8/20], MSE Loss: 0.0106\n",
      "Epoch [9/20], MSE Loss: 0.0113\n",
      "Epoch [10/20], MSE Loss: 0.0106\n",
      "Epoch [11/20], MSE Loss: 0.0102\n",
      "Epoch [12/20], MSE Loss: 0.0090\n",
      "Epoch [13/20], MSE Loss: 0.0091\n",
      "Epoch [14/20], MSE Loss: 0.0075\n",
      "Epoch [15/20], MSE Loss: 0.0064\n",
      "Epoch [16/20], MSE Loss: 0.0058\n",
      "Epoch [17/20], MSE Loss: 0.0056\n",
      "Epoch [18/20], MSE Loss: 0.0054\n",
      "Epoch [19/20], MSE Loss: 0.0045\n",
      "Epoch [20/20], MSE Loss: 0.0047\n"
     ]
    }
   ],
   "source": [
    "import torch\n",
    "import torch.optim as optim\n",
    "import torch.nn as nn\n",
    "\n",
    "# Prepare model, loss function, and optimizer\n",
    "criterion = nn.MSELoss()\n",
    "optimizer = optim.Adam(model.parameters(), lr=0.001)\n",
    "num_epochs = 20\n",
    "device = \"mps\"\n",
    "\n",
    "model = model.to(device)\n",
    "\n",
    "for epoch in range(num_epochs):\n",
    "    model.train()\n",
    "    epoch_loss = 0\n",
    "    for images, labels in dataloader:\n",
    "        # Move data to GPU if available\n",
    "        images, labels = images.to(device), labels.to(device)\n",
    "        \n",
    "        optimizer.zero_grad()  # Zero the parameter gradients\n",
    "        \n",
    "        # Forward pass\n",
    "        outputs = model(images)\n",
    "        loss = criterion(outputs.squeeze(), labels)\n",
    "        \n",
    "        # Backward pass and optimize\n",
    "        loss.backward()\n",
    "        optimizer.step()\n",
    "        \n",
    "        # Accumulate the loss\n",
    "        epoch_loss += loss.item()\n",
    "    \n",
    "    # Compute and print the average loss for the epoch\n",
    "    avg_loss = epoch_loss / len(dataloader)\n",
    "    print(f\"Epoch [{epoch+1}/{num_epochs}], MSE Loss: {avg_loss:.4f}\")"
   ]
  },
  {
   "cell_type": "code",
   "execution_count": null,
   "metadata": {},
   "outputs": [],
   "source": [
    "torch.save(model,\"simple_model.pth\")"
   ]
  },
  {
   "cell_type": "code",
   "execution_count": null,
   "metadata": {},
   "outputs": [],
   "source": [
    "model = torch.load(\"simple_model.pth\")"
   ]
  },
  {
   "cell_type": "code",
   "execution_count": null,
   "metadata": {},
   "outputs": [
    {
     "data": {
      "text/plain": [
       "SingleScoreCNN(\n",
       "  (conv1): Conv2d(3, 16, kernel_size=(3, 3), stride=(1, 1), padding=(1, 1))\n",
       "  (conv2): Conv2d(16, 32, kernel_size=(3, 3), stride=(1, 1), padding=(1, 1))\n",
       "  (conv3): Conv2d(32, 64, kernel_size=(3, 3), stride=(1, 1), padding=(1, 1))\n",
       "  (fc1): Linear(in_features=4096, out_features=512, bias=True)\n",
       "  (fc2): Linear(in_features=512, out_features=128, bias=True)\n",
       "  (fc3): Linear(in_features=128, out_features=64, bias=True)\n",
       "  (fc4): Linear(in_features=64, out_features=1, bias=True)\n",
       ")"
      ]
     },
     "execution_count": 7,
     "metadata": {},
     "output_type": "execute_result"
    }
   ],
   "source": [
    "model"
   ]
  },
  {
   "cell_type": "code",
   "execution_count": 13,
   "metadata": {},
   "outputs": [],
   "source": [
    "def model_predict_class(image, model):\n",
    "    scores = model(image)\n",
    "    score = scores.squeeze()\n",
    "    print(score)\n",
    "    if score < 0.3:\n",
    "        category = \"Very Poor\"\n",
    "    elif score < 0.4:\n",
    "        category = \"Poor\"\n",
    "    elif score < 0.6:\n",
    "        category = \"Fair\"\n",
    "    elif score < 0.8:\n",
    "        category = \"Good\"\n",
    "    else:   \n",
    "        category = \"Very Good\"\n",
    "    return category       "
   ]
  },
  {
   "cell_type": "code",
   "execution_count": 14,
   "metadata": {},
   "outputs": [
    {
     "name": "stdout",
     "output_type": "stream",
     "text": [
      "tensor([0.3103, 0.3328, 0.2792, 0.4056, 0.3412, 0.8994, 0.4197, 0.3223, 0.3227,\n",
      "        0.4999, 0.4217, 0.3885, 0.2715, 0.3447, 0.3061, 0.3946, 0.3099, 0.3290,\n",
      "        0.3120, 0.2866, 0.3932, 0.4276, 0.4854, 0.4093, 0.5231, 0.6120, 0.4035,\n",
      "        0.3706, 0.3550, 0.3423, 0.2948, 0.3428], device='mps:0',\n",
      "       grad_fn=<SqueezeBackward0>)\n"
     ]
    },
    {
     "ename": "RuntimeError",
     "evalue": "Boolean value of Tensor with more than one value is ambiguous",
     "output_type": "error",
     "traceback": [
      "\u001b[0;31m---------------------------------------------------------------------------\u001b[0m",
      "\u001b[0;31mRuntimeError\u001b[0m                              Traceback (most recent call last)",
      "Cell \u001b[0;32mIn[14], line 4\u001b[0m\n\u001b[1;32m      1\u001b[0m \u001b[38;5;28;01mfor\u001b[39;00m images, labels \u001b[38;5;129;01min\u001b[39;00m dataloader:\n\u001b[1;32m      2\u001b[0m     \u001b[38;5;66;03m# Move data to GPU if available\u001b[39;00m\n\u001b[1;32m      3\u001b[0m     images, labels \u001b[38;5;241m=\u001b[39m images\u001b[38;5;241m.\u001b[39mto(device), labels\u001b[38;5;241m.\u001b[39mto(device)\n\u001b[0;32m----> 4\u001b[0m     output \u001b[38;5;241m=\u001b[39m \u001b[43mmodel_predict_class\u001b[49m\u001b[43m(\u001b[49m\u001b[43mimages\u001b[49m\u001b[43m,\u001b[49m\u001b[43m \u001b[49m\u001b[43mmodel\u001b[49m\u001b[43m)\u001b[49m\n\u001b[1;32m      5\u001b[0m     \u001b[38;5;66;03m# Compute the loss, etc.\u001b[39;00m\n\u001b[1;32m      6\u001b[0m     \u001b[38;5;28mprint\u001b[39m(output, labels)\n",
      "Cell \u001b[0;32mIn[13], line 5\u001b[0m, in \u001b[0;36mmodel_predict_class\u001b[0;34m(image, model)\u001b[0m\n\u001b[1;32m      3\u001b[0m score \u001b[38;5;241m=\u001b[39m scores\u001b[38;5;241m.\u001b[39msqueeze()\n\u001b[1;32m      4\u001b[0m \u001b[38;5;28mprint\u001b[39m(score)\n\u001b[0;32m----> 5\u001b[0m \u001b[38;5;28;01mif\u001b[39;00m score \u001b[38;5;241m<\u001b[39m \u001b[38;5;241m0.3\u001b[39m:\n\u001b[1;32m      6\u001b[0m     category \u001b[38;5;241m=\u001b[39m \u001b[38;5;124m\"\u001b[39m\u001b[38;5;124mVery Poor\u001b[39m\u001b[38;5;124m\"\u001b[39m\n\u001b[1;32m      7\u001b[0m \u001b[38;5;28;01melif\u001b[39;00m score \u001b[38;5;241m<\u001b[39m \u001b[38;5;241m0.4\u001b[39m:\n",
      "\u001b[0;31mRuntimeError\u001b[0m: Boolean value of Tensor with more than one value is ambiguous"
     ]
    }
   ],
   "source": [
    "for images, labels in dataloader:\n",
    "    # Move data to GPU if available\n",
    "    images, labels = images.to(device), labels.to(device)\n",
    "    output = model_predict_class(images, model)\n",
    "    # Compute the loss, etc.\n",
    "    print(output, labels)"
   ]
  },
  {
   "cell_type": "code",
   "execution_count": null,
   "metadata": {},
   "outputs": [],
   "source": []
  }
 ],
 "metadata": {
  "kernelspec": {
   "display_name": "base",
   "language": "python",
   "name": "python3"
  },
  "language_info": {
   "codemirror_mode": {
    "name": "ipython",
    "version": 3
   },
   "file_extension": ".py",
   "mimetype": "text/x-python",
   "name": "python",
   "nbconvert_exporter": "python",
   "pygments_lexer": "ipython3",
   "version": "3.9.16"
  }
 },
 "nbformat": 4,
 "nbformat_minor": 2
}
