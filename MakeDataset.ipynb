{
  "cells": [
    {
      "cell_type": "code",
      "execution_count": 1,
      "metadata": {
        "id": "rgYgRJb7QaH3"
      },
      "outputs": [],
      "source": [
        "import os\n",
        "import json\n",
        "import cv2\n",
        "import pandas as pd\n",
        "from tqdm import tqdm\n",
        "import numpy as np"
      ]
    },
    {
      "cell_type": "code",
      "execution_count": 2,
      "metadata": {
        "colab": {
          "base_uri": "https://localhost:8080/"
        },
        "id": "dgHX__8PiNqX",
        "outputId": "7d143711-4924-4570-dcfb-15b6c80ff80b"
      },
      "outputs": [
        {
          "data": {
            "text/plain": [
              "['icon_legend.json',\n",
              " '10594-screenshot.jpg',\n",
              " 'component_legend.json',\n",
              " 'README.md',\n",
              " 'measures.csv',\n",
              " '.gitignore',\n",
              " '10594-hierarchy.json',\n",
              " 'MakeDataset.ipynb',\n",
              " 'textButton_legend.json',\n",
              " 'combined',\n",
              " '.git',\n",
              " '10594-wireframe.png',\n",
              " '10594-metadata.json',\n",
              " 'model.ipynb',\n",
              " 'semantic_annotations']"
            ]
          },
          "execution_count": 2,
          "metadata": {},
          "output_type": "execute_result"
        }
      ],
      "source": [
        "os.listdir()"
      ]
    },
    {
      "cell_type": "markdown",
      "metadata": {
        "id": "RW_KSk6RQbqa"
      },
      "source": [
        "1. Density - Anushka"
      ]
    },
    {
      "cell_type": "code",
      "execution_count": 3,
      "metadata": {
        "id": "qkG4XRTtQWcU"
      },
      "outputs": [],
      "source": [
        "def calculate_area(bounds):\n",
        "    return (bounds[2] - bounds[0]) * (bounds[3] - bounds[1])\n",
        "\n",
        "def do_rectangles_overlap(rect1, rect2):\n",
        "    return not (rect1[2] <= rect2[0] or rect1[0] >= rect2[2] or rect1[3] <= rect2[1] or rect1[1] >= rect2[3])\n",
        "\n",
        "def merge_overlapping_objects(data):\n",
        "    merged_objects = []\n",
        "\n",
        "    if 'children' in data:\n",
        "        for parent in data['children']:\n",
        "            non_overlapping_children = []\n",
        "\n",
        "            if 'children' in parent:\n",
        "                for child in parent['children']:\n",
        "                    overlapping = False\n",
        "                    for merged_obj in merged_objects:\n",
        "                        if do_rectangles_overlap(child['bounds'], merged_obj['bounds']):\n",
        "                            overlapping = True\n",
        "                            break\n",
        "\n",
        "                    if not overlapping:\n",
        "                        non_overlapping_children.append(child)\n",
        "\n",
        "                merged_objects.extend(non_overlapping_children)\n",
        "\n",
        "    return merged_objects\n",
        "\n",
        "def calculate_density_measure(total_area, frame_area):\n",
        "    if total_area > 0 and frame_area > 0:\n",
        "        density_measure = 1 - 2 * abs(0.5 - total_area / frame_area)\n",
        "        density_measure = max(0, min(1, density_measure))\n",
        "    else:\n",
        "        density_measure = 0\n",
        "\n",
        "    return density_measure\n",
        "\n",
        "def calculate_density(data):\n",
        "    total_area = 0\n",
        "\n",
        "    merged_objects = merge_overlapping_objects(data)\n",
        "\n",
        "    for item in merged_objects:\n",
        "        bounds = item.get('bounds')\n",
        "        if bounds:\n",
        "            area = calculate_area(bounds)\n",
        "            total_area += area\n",
        "\n",
        "    frame_bounds = data.get('bounds')\n",
        "    if frame_bounds:\n",
        "        frame_area = calculate_area(frame_bounds)\n",
        "\n",
        "    density_measure = calculate_density_measure(total_area, frame_area)\n",
        "\n",
        "    return density_measure"
      ]
    },
    {
      "cell_type": "markdown",
      "metadata": {
        "id": "VAEcvKb9QgV6"
      },
      "source": [
        "2. Colour - Yash"
      ]
    },
    {
      "cell_type": "code",
      "execution_count": 4,
      "metadata": {
        "id": "5lHZH4FfQfSg"
      },
      "outputs": [],
      "source": [
        "def calculate_colorfulness(image):\n",
        "    image = cv2.imread(image)\n",
        "    # Convert the image to sRGB color space\n",
        "    srgb_image = cv2.cvtColor(image, cv2.COLOR_BGR2RGB)\n",
        "\n",
        "    # Calculate the pixel cloud along directions (rg, yb)\n",
        "    rg = srgb_image[:,:,0] - srgb_image[:,:,1]\n",
        "    yb = (srgb_image[:,:,0] + srgb_image[:,:,1]) / 2 - srgb_image[:,:,2]\n",
        "\n",
        "    # Calculate the standard deviation and mean value along directions (rg, yb)\n",
        "    std_rg = np.std(rg)\n",
        "    std_yb = np.std(yb)\n",
        "    mean_rg = np.mean(rg)\n",
        "    mean_yb = np.mean(yb)\n",
        "\n",
        "    # Calculate ^M(3) colorfulness metric\n",
        "    colorfulness = np.sqrt(std_rg*2 + std_yb*2) + 0.3 * np.sqrt(mean_rg*2 + mean_yb*2)\n",
        "\n",
        "    return colorfulness"
      ]
    },
    {
      "cell_type": "markdown",
      "metadata": {
        "id": "Nq6eS3APQu8n"
      },
      "source": [
        "3. Proportion - Devesh"
      ]
    },
    {
      "cell_type": "code",
      "execution_count": 5,
      "metadata": {
        "id": "r-qyn3CleQPl"
      },
      "outputs": [],
      "source": [
        "standard_proportions = {\n",
        "        'sq': 1,        # Square\n",
        "        'r2': 1/1.414,  # Square root of 2\n",
        "        'gr': 1/1.618,  # Golden ratio\n",
        "        'r3': 1/1.732,  # Square root of 3\n",
        "        'ds': 1/2       # Double square\n",
        "    }\n",
        "\n",
        "# Recursive function to parse JSON and calculate PM_object\n",
        "def parse_json_and_calculate_PMobject(component, standard_proportions):\n",
        "    sum_min_diff = 0\n",
        "    n = 0\n",
        "\n",
        "    def extract_proportion(bounds):\n",
        "        x1, y1, x2, y2 = bounds\n",
        "        width = x2 - x1\n",
        "        height = y2 - y1\n",
        "        return height / width if width != 0 else 0\n",
        "\n",
        "    # Recursively process components and children\n",
        "    def process_component(component):\n",
        "        nonlocal sum_min_diff, n\n",
        "        bounds = component.get(\"bounds\", [])\n",
        "        if bounds:\n",
        "            proportion = extract_proportion(bounds)\n",
        "            min_diff = min(abs(proportion - sp) for sp in standard_proportions.values())\n",
        "            sum_min_diff += (1 - min_diff / 0.5)\n",
        "            n += 1\n",
        "        for child in component.get(\"children\", []):\n",
        "            process_component(child)\n",
        "\n",
        "    process_component(component)\n",
        "    return abs(sum_min_diff / n) if n != 0 else 0\n",
        "\n",
        "# Calculate the PM_object for the entire JSON data structure\n",
        "# PM_object = parse_json_and_calculate_PMobject(json_data, standard_proportions)\n",
        "# PM_object\n",
        "\n",
        "def calculate_PMlayout(width_layout, height_layout):\n",
        "    # Standard proportions as per the provided screenshot\n",
        "\n",
        "    # Calculate the layout proportion\n",
        "    r_layout = height_layout / width_layout if width_layout != 0 else 0\n",
        "    p_layout = r_layout if r_layout <= 1 else 1 / r_layout\n",
        "\n",
        "    # Find the minimum difference between p_layout and the standard proportions\n",
        "    min_diff = min(abs(p_layout - sp) for sp in standard_proportions.values())\n",
        "\n",
        "    # Calculate PM_layout according to the formula\n",
        "    PM_layout = 1 - (min_diff / 0.5)\n",
        "\n",
        "    return abs(PM_layout)\n",
        "\n",
        "# calculate_PMlayout(json_data[\"bounds\"][2],json_data[\"bounds\"][3])\n",
        "\n",
        "def calculate_PM(json_data):\n",
        "    pm_object = parse_json_and_calculate_PMobject(json_data, standard_proportions)\n",
        "    pm_layout = calculate_PMlayout(json_data[\"bounds\"][2],json_data[\"bounds\"][3])\n",
        "    return (pm_object + pm_layout) / 2"
      ]
    },
    {
      "cell_type": "markdown",
      "metadata": {
        "id": "0Xik8zYdQwlL"
      },
      "source": [
        "4. Symmetry - Mann"
      ]
    },
    {
      "cell_type": "code",
      "execution_count": 6,
      "metadata": {
        "id": "kxb4hGrTXGGG"
      },
      "outputs": [],
      "source": [
        "def determine_quadrant(element_center_x, element_center_y, center_x, center_y):\n",
        "    if element_center_x < center_x and element_center_y < center_y:\n",
        "        return 'UL'\n",
        "    elif element_center_x >= center_x and element_center_y < center_y:\n",
        "        return 'UR'\n",
        "    elif element_center_x < center_x and element_center_y >= center_y:\n",
        "        return 'LL'\n",
        "    elif element_center_x >= center_x and element_center_y >= center_y:\n",
        "        return 'LR'\n",
        "\n",
        "def calculate_element_properties(bounds):\n",
        "    width = bounds[2] - bounds[0]\n",
        "    height = bounds[3] - bounds[1]\n",
        "    center_x = bounds[0] + width / 2\n",
        "    center_y = bounds[1] + height / 2\n",
        "    return center_x, center_y, width, height\n",
        "\n",
        "def extract_ui_elements(data, parent_bounds=None):\n",
        "    elements = []\n",
        "    bounds = data.get('bounds', parent_bounds)\n",
        "    if 'children' not in data or not data['children']:\n",
        "        return [{'class': data['class'], 'bounds': bounds}]\n",
        "    for child in data['children']:\n",
        "        elements.extend(extract_ui_elements(child, bounds))\n",
        "    return elements\n",
        "\n",
        "def calculate_symmetry(data):\n",
        "    screen_bounds = data['bounds']\n",
        "    screen_center_x = (screen_bounds[2] + screen_bounds[0]) / 2\n",
        "    screen_center_y = (screen_bounds[3] + screen_bounds[1]) / 2\n",
        "\n",
        "    ui_elements = extract_ui_elements(data)\n",
        "    quadrants = {'UL': [], 'UR': [], 'LL': [], 'LR': []}\n",
        "    for element in ui_elements:\n",
        "        center_x, center_y, width, height = calculate_element_properties(element['bounds'])\n",
        "        quadrant = determine_quadrant(center_x, center_y, screen_center_x, screen_center_y)\n",
        "        quadrants[quadrant].append({\n",
        "            'center_x': center_x,\n",
        "            'center_y': center_y,\n",
        "            'width': width,\n",
        "            'height': height\n",
        "        })\n",
        "\n",
        "    normalized_values = {}\n",
        "    for quadrant, elements in quadrants.items():\n",
        "        x_sum = sum(element['center_x'] for element in elements)\n",
        "        y_sum = sum(element['center_y'] for element in elements)\n",
        "        width_sum = sum(element['width'] for element in elements)\n",
        "        height_sum = sum(element['height'] for element in elements)\n",
        "        count = len(elements)\n",
        "        if count > 0:\n",
        "            normalized_values[quadrant] = {\n",
        "                'x': x_sum / count - screen_center_x,\n",
        "                'y': y_sum / count - screen_center_y,\n",
        "                'h': height_sum / count,\n",
        "                'w': width_sum / count,\n",
        "                'theta': sum(abs(element['center_y'] - screen_center_y) for element in elements) / count,\n",
        "                'r': sum((element['center_x'] - screen_center_x)*2 + (element['center_y'] - screen_center_y) for element in elements)*0.5 / count\n",
        "            }\n",
        "        else:\n",
        "            normalized_values[quadrant] = None\n",
        "\n",
        "    SYM_vertical, SYM_horizontal, SYM_radial = 0, 0, 0\n",
        "\n",
        "    if normalized_values['UL'] and normalized_values['UR']:\n",
        "        SYM_vertical += (abs(normalized_values['UL']['x'] - normalized_values['UR']['x'])) / (normalized_values['UL']['w'] + normalized_values['UR']['w'])\n",
        "    if normalized_values['LL'] and normalized_values['LR']:\n",
        "        SYM_vertical += (abs(normalized_values['LL']['x'] - normalized_values['LR']['x'])) / (normalized_values['LL']['w'] + normalized_values['LR']['w'])\n",
        "\n",
        "    if normalized_values['UL'] and normalized_values['LL']:\n",
        "        SYM_horizontal += (abs(normalized_values['UL']['y'] - normalized_values['LL']['y'])) / (normalized_values['UL']['h'] + normalized_values['LL']['h'])\n",
        "    if normalized_values['UR'] and normalized_values['LR']:\n",
        "        SYM_horizontal += (abs(normalized_values['UR']['y'] - normalized_values['LR']['y'])) / (normalized_values['UR']['h'] + normalized_values['LR']['h'])\n",
        "\n",
        "    if all(normalized_values[quadrant] is not None for quadrant in ['UL', 'UR', 'LL', 'LR']):\n",
        "        SYM_radial = (normalized_values['UL']['r'] + normalized_values['UR']['r'] + normalized_values['LL']['r'] + normalized_values['LR']['r']) / 12\n",
        "\n",
        "    div = 2 if (SYM_vertical and SYM_horizontal) else 1\n",
        "    overall_symmetry = 1 - ((SYM_vertical + SYM_horizontal) / div + SYM_radial)\n",
        "\n",
        "    return max(0, overall_symmetry)\n",
        "\n",
        "def update_json_file(file_path, symmetry_score):\n",
        "    with open(file_path, 'r') as json_file:\n",
        "        data = json.load(json_file)\n",
        "    data['symmetry_score'] = symmetry_score\n",
        "    with open(file_path, 'w') as json_file:\n",
        "        json.dump(data, json_file, indent=4)\n",
        "\n",
        "# def symmetry_score(directory_path):\n",
        "#     symmetry_scores = {}\n",
        "#     for filename in os.listdir(directory_path):\n",
        "#         if filename.endswith('.json'):\n",
        "#             file_path = os.path.join(directory_path, filename)\n",
        "#             with open(file_path, 'r') as json_file:\n",
        "#                 data = json.load(json_file)\n",
        "#             symmetry_score = calculate_symmetry(data)\n",
        "#             symmetry_scores[filename] = symmetry_score\n",
        "#             update_json_file(file_path, symmetry_score)\n",
        "#     return symmetry_scores\n",
        "\n",
        "def symmetry_score(json_data):\n",
        "    symmetry_score = calculate_symmetry(json_data)\n",
        "    # symmetry_scores[filename] = symmetry_score\n",
        "    # update_json_file(file_path, symmetry_score)\n",
        "    return symmetry_score"
      ]
    },
    {
      "cell_type": "markdown",
      "metadata": {
        "id": "h7PO81XaQyD6"
      },
      "source": [
        "5. Balance - Vedika"
      ]
    },
    {
      "cell_type": "code",
      "execution_count": 7,
      "metadata": {
        "id": "1UW2o-nuYBIS"
      },
      "outputs": [],
      "source": [
        "import json\n",
        "\n",
        "def screen_bounds(json_data):\n",
        "    bounds = json_data['bounds']\n",
        "    left, top, right, bottom = bounds\n",
        "    width = right - left\n",
        "    height = bottom - top\n",
        "    return width, height\n",
        "\n",
        "def parse_annotations(json_data):\n",
        "    objects = []\n",
        "    \n",
        "    def parse_children(children):\n",
        "        for item in children:\n",
        "            if 'bounds' in item:\n",
        "                left, top, right, bottom = item['bounds']\n",
        "                width = right - left\n",
        "                height = bottom - top\n",
        "                objects.append({\n",
        "                    'left': left,\n",
        "                    'top': top,\n",
        "                    'right': right,\n",
        "                    'bottom': bottom,\n",
        "                    'width': width,\n",
        "                    'height': height\n",
        "                })\n",
        "            if 'children' in item:\n",
        "                parse_children(item['children'])\n",
        "\n",
        "    parse_children(json_data['children'])\n",
        "    return objects\n",
        "\n",
        "def compute_balance_scores(objects, json_data):\n",
        "    screen_width, screen_height = screen_bounds(json_data)\n",
        "    left_area = right_area = top_area = bottom_area = 0\n",
        "    left_distance = right_distance = top_distance = bottom_distance = 0\n",
        "    \n",
        "    if objects == []:\n",
        "        return 0\n",
        "    else:\n",
        "      for obj in objects:\n",
        "          left_area += obj['width']*obj['height'] if (obj['left']+obj['right'])/2 < screen_width/2 else 0\n",
        "          right_area += obj['width']*obj['height'] if (obj['left']+obj['right'])/2  >= screen_width/2 else 0\n",
        "          top_area += obj['width']*obj['height'] if (obj['top']+obj['bottom'])/2  < screen_height/2 else 0\n",
        "          bottom_area += obj['width']*obj['height'] if (obj['top']+obj['bottom'])/2 >= screen_height/2 else 0\n",
        "          \n",
        "          left_distance += abs((obj['left'] + obj['width'])/2 - screen_width) if (obj['left']+obj['right'])/2 < screen_width/2 else 0\n",
        "          right_distance += abs((obj['left'] + obj['width'])/2 - screen_width) if (obj['left']+obj['right'])/2 < screen_width/2 else 0\n",
        "          top_distance += abs((obj['top'] + obj['height'])/2 - screen_height) if (obj['top']+obj['bottom'])/2  < screen_height/2 else 0\n",
        "          bottom_distance += abs((obj['top'] + obj['height'])/2 - screen_height) if (obj['top']+obj['bottom'])/2  < screen_height/2 else 0\n",
        "      \n",
        "      left_weight = left_area / max(left_area, right_area)    \n",
        "      right_weight = right_area / max(left_area, right_area)\n",
        "      top_weight = top_area / max(top_area, bottom_area)\n",
        "      bottom_weight = bottom_area / max(top_area, bottom_area)\n",
        "      \n",
        "      vertical_balance = abs(left_weight - right_weight)\n",
        "      horizontal_balance = abs(top_weight - bottom_weight)\n",
        "      \n",
        "      balance_measure = 1 - (vertical_balance + horizontal_balance) / 2\n",
        "    \n",
        "    return balance_measure\n",
        "\n",
        "def balance_score(json_data):\n",
        "    objects = parse_annotations(json_data)\n",
        "    balance_score = compute_balance_scores(objects, json_data)\n",
        "    # print(\"Balance Score:\", balance_score)\n",
        "    return balance_score"
      ]
    },
    {
      "cell_type": "markdown",
      "metadata": {
        "id": "wJ7xkWwCQ5uc"
      },
      "source": [
        "**Calculate Everything**"
      ]
    },
    {
      "cell_type": "code",
      "execution_count": 8,
      "metadata": {
        "id": "-NfQ4Ay2h6hj"
      },
      "outputs": [],
      "source": [
        "# import zipfile\n",
        "# import os\n",
        "\n",
        "# # Assuming we have a path to the zip file and a target directory\n",
        "# zip_file_path = './ui_layout_vectors.zip'  # Replace with your zip file path\n",
        "# target_directory = './'  # Replace with your target directory\n",
        "\n",
        "# # Create target directory if it does not exist\n",
        "# if not os.path.exists(target_directory):\n",
        "#     os.makedirs(target_directory)\n",
        "\n",
        "# # Extract the zip file\n",
        "# with zipfile.ZipFile(zip_file_path, 'r') as zip_ref:\n",
        "#     zip_ref.extractall(target_directory)\n",
        "\n",
        "# # The code above assumes the paths are known and correctly provided.\n",
        "# # If you have the zip file already in your environment, you can adjust the paths accordingly.\n"
      ]
    },
    {
      "cell_type": "code",
      "execution_count": 10,
      "metadata": {
        "colab": {
          "base_uri": "https://localhost:8080/",
          "height": 216
        },
        "id": "RYAkUpvOQ74Z",
        "outputId": "e5a92cac-a532-428c-bf49-69eba22a58f3"
      },
      "outputs": [
        {
          "name": "stderr",
          "output_type": "stream",
          "text": [
            "Processing JSON files:   0%|          | 1/132524 [00:41<1534:40:29, 41.69s/it]\n",
            "/var/folders/tq/jg4s5xc906x_8pq6f8q3ffn80000gn/T/ipykernel_26389/3584277527.py:17: RuntimeWarning: invalid value encountered in sqrt\n",
            "  colorfulness = np.sqrt(std_rg*2 + std_yb*2) + 0.3 * np.sqrt(mean_rg*2 + mean_yb*2)\n",
            "Processing JSON files:   0%|          | 257/132524 [00:03<31:36, 69.75it/s]"
          ]
        },
        {
          "name": "stdout",
          "output_type": "stream",
          "text": [
            "Results saved to ./measures.csv\n"
          ]
        },
        {
          "name": "stderr",
          "output_type": "stream",
          "text": [
            "\n"
          ]
        }
      ],
      "source": [
        "output_csv = './measures.csv'\n",
        "json_folder = './semantic_annotations'\n",
        "image_folder = './combined'\n",
        "\n",
        "page_names = []\n",
        "balance_measures = []\n",
        "colour_measures = []\n",
        "symmetry_measures = []\n",
        "proportion_measures = []\n",
        "density_measures = []\n",
        "\n",
        "progress_bar = tqdm(total=len(os.listdir(json_folder)), desc=\"Processing JSON files\")\n",
        "\n",
        "for filename in os.listdir(json_folder)[:500]:\n",
        "    if filename.endswith('.json'):\n",
        "        progress_bar.update(1)  # Update progress bar\n",
        "        page_number = filename.split('.')[0]\n",
        "        page_names.append(page_number)\n",
        "\n",
        "        with open(os.path.join(json_folder, filename), 'r', encoding='utf-8') as f:\n",
        "            data = json.load(f)\n",
        "\n",
        "        balance = balance_score(data)\n",
        "        balance_measures.append(balance)\n",
        "\n",
        "        proportion = calculate_PM(data)\n",
        "        proportion_measures.append(proportion)\n",
        "\n",
        "        symmetry = symmetry_score(data)\n",
        "        symmetry_measures.append(symmetry)\n",
        "\n",
        "        density = calculate_density(data)\n",
        "        density_measures.append(density)\n",
        "\n",
        "        # Load corresponding image for colour calculation\n",
        "        image_filename = page_number + '.jpg'\n",
        "        image_path = os.path.join(image_folder, image_filename)\n",
        "        if os.path.exists(image_path):\n",
        "            colour = calculate_colorfulness(image_path)\n",
        "            colour_measures.append(colour)\n",
        "        else:\n",
        "            colour_measures.append(None)  # Handle case where image is not found\n",
        "\n",
        "        # Log progress every 1000 pages\n",
        "        if len(page_names) % 2000 == 0:\n",
        "            print(f\"Processed {len(page_names)} pages\")\n",
        "\n",
        "progress_bar.close()\n",
        "\n",
        "# Create a DataFrame to store the results\n",
        "results_df = pd.DataFrame({\n",
        "    'Page': page_names,\n",
        "    'Balance': balance_measures,\n",
        "    'Colour': colour_measures,\n",
        "    'Symmetry': symmetry_measures,\n",
        "    'Proportion': proportion_measures,\n",
        "    'Density': density_measures\n",
        "})\n",
        "\n",
        "# Calculate final score (average of all measures)\n",
        "results_df['Final Score'] = results_df[['Balance', 'Colour', 'Symmetry', 'Proportion', 'Density']].mean(axis=1)\n",
        "# results_df['Final Score'] = results_df[['Balance', 'Symmetry', 'Proportion', 'Density']].mean(axis=1)\n",
        "\n",
        "# Save results to CSV\n",
        "results_df.to_csv(output_csv, index=False)\n",
        "\n",
        "print(\"Results saved to\", output_csv)"
      ]
    },
    {
      "cell_type": "markdown",
      "metadata": {
        "id": "DRW1aTNfQftl"
      },
      "source": []
    }
  ],
  "metadata": {
    "colab": {
      "provenance": []
    },
    "kernelspec": {
      "display_name": "Python 3",
      "name": "python3"
    },
    "language_info": {
      "codemirror_mode": {
        "name": "ipython",
        "version": 3
      },
      "file_extension": ".py",
      "mimetype": "text/x-python",
      "name": "python",
      "nbconvert_exporter": "python",
      "pygments_lexer": "ipython3",
      "version": "3.9.16"
    }
  },
  "nbformat": 4,
  "nbformat_minor": 0
}
