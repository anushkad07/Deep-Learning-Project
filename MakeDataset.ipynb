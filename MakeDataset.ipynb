{
  "nbformat": 4,
  "nbformat_minor": 0,
  "metadata": {
    "colab": {
      "provenance": [],
      "include_colab_link": true
    },
    "kernelspec": {
      "name": "python3",
      "display_name": "Python 3"
    },
    "language_info": {
      "name": "python"
    }
  },
  "cells": [
    {
      "cell_type": "markdown",
      "metadata": {
        "id": "view-in-github",
        "colab_type": "text"
      },
      "source": [
        "<a href=\"https://colab.research.google.com/github/anushkad07/Deep-Learning-Project/blob/main/MakeDataset.ipynb\" target=\"_parent\"><img src=\"https://colab.research.google.com/assets/colab-badge.svg\" alt=\"Open In Colab\"/></a>"
      ]
    },
    {
      "cell_type": "code",
      "source": [
        "import os\n",
        "import json\n",
        "import cv2\n",
        "import pandas as pd\n",
        "from tqdm import tqdm\n",
        "import numpy as np"
      ],
      "metadata": {
        "id": "rgYgRJb7QaH3"
      },
      "execution_count": null,
      "outputs": []
    },
    {
      "cell_type": "markdown",
      "source": [
        "1. Density - Anushka"
      ],
      "metadata": {
        "id": "RW_KSk6RQbqa"
      }
    },
    {
      "cell_type": "code",
      "execution_count": null,
      "metadata": {
        "id": "qkG4XRTtQWcU"
      },
      "outputs": [],
      "source": [
        "def calculate_area(bounds):\n",
        "    return (bounds[2] - bounds[0]) * (bounds[3] - bounds[1])\n",
        "\n",
        "def calculate_density_measure(data):\n",
        "    total_area = 0\n",
        "    for item in data['children']:\n",
        "        bounds = item.get('bounds')\n",
        "        if bounds:\n",
        "            area = calculate_area(bounds)\n",
        "            total_area += area\n",
        "\n",
        "    frame_bounds = data.get('bounds')\n",
        "    if frame_bounds:\n",
        "        frame_area = calculate_area(frame_bounds)\n",
        "\n",
        "    if total_area > 0 and frame_area > 0:\n",
        "        density_measure = 1 - 2 * abs(0.5 - total_area / frame_area)\n",
        "    else:\n",
        "        density_measure = 0\n",
        "\n",
        "    return density_measure\n"
      ]
    },
    {
      "cell_type": "markdown",
      "source": [
        "2. Colour - Yash"
      ],
      "metadata": {
        "id": "VAEcvKb9QgV6"
      }
    },
    {
      "cell_type": "code",
      "source": [
        "def calculate_colorfulness(image):\n",
        "    # Convert the image to sRGB color space\n",
        "    srgb_image = cv2.cvtColor(image, cv2.COLOR_BGR2RGB)\n",
        "\n",
        "    # Calculate the pixel cloud along directions (rg, yb)\n",
        "    rg = srgb_image[:,:,0] - srgb_image[:,:,1]\n",
        "    yb = (srgb_image[:,:,0] + srgb_image[:,:,1]) / 2 - srgb_image[:,:,2]\n",
        "\n",
        "    # Calculate the standard deviation and mean value along directions (rg, yb)\n",
        "    std_rg = np.std(rg)\n",
        "    std_yb = np.std(yb)\n",
        "    mean_rg = np.mean(rg)\n",
        "    mean_yb = np.mean(yb)\n",
        "\n",
        "    # Calculate ^M(3) colorfulness metric\n",
        "    colorfulness = np.sqrt(std_rg*2 + std_yb2) + 0.3 * np.sqrt(mean_rg2 + mean_yb*2)\n",
        "\n",
        "    return colorfulness"
      ],
      "metadata": {
        "id": "5lHZH4FfQfSg"
      },
      "execution_count": null,
      "outputs": []
    },
    {
      "cell_type": "markdown",
      "source": [
        "3. Proportion - Devesh"
      ],
      "metadata": {
        "id": "Nq6eS3APQu8n"
      }
    },
    {
      "cell_type": "markdown",
      "source": [
        "4. Symmetry - Mann"
      ],
      "metadata": {
        "id": "0Xik8zYdQwlL"
      }
    },
    {
      "cell_type": "code",
      "source": [
        "def determine_quadrant(element_center_x, element_center_y, center_x, center_y):\n",
        "    if element_center_x < center_x and element_center_y < center_y:\n",
        "        return 'UL'\n",
        "    elif element_center_x >= center_x and element_center_y < center_y:\n",
        "        return 'UR'\n",
        "    elif element_center_x < center_x and element_center_y >= center_y:\n",
        "        return 'LL'\n",
        "    elif element_center_x >= center_x and element_center_y >= center_y:\n",
        "        return 'LR'\n",
        "\n",
        "def calculate_element_properties(bounds):\n",
        "    width = bounds[2] - bounds[0]\n",
        "    height = bounds[3] - bounds[1]\n",
        "    center_x = bounds[0] + width / 2\n",
        "    center_y = bounds[1] + height / 2\n",
        "    return center_x, center_y, width, height\n",
        "\n",
        "def extract_ui_elements(data, parent_bounds=None):\n",
        "    elements = []\n",
        "    bounds = data.get('bounds', parent_bounds)\n",
        "    if 'children' not in data or not data['children']:\n",
        "        return [{'class': data['class'], 'bounds': bounds}]\n",
        "    for child in data['children']:\n",
        "        elements.extend(extract_ui_elements(child, bounds))\n",
        "    return elements\n",
        "\n",
        "def calculate_symmetry(data):\n",
        "    screen_bounds = data['bounds']\n",
        "    screen_center_x = (screen_bounds[2] + screen_bounds[0]) / 2\n",
        "    screen_center_y = (screen_bounds[3] + screen_bounds[1]) / 2\n",
        "\n",
        "    ui_elements = extract_ui_elements(data)\n",
        "    quadrants = {'UL': [], 'UR': [], 'LL': [], 'LR': []}\n",
        "    for element in ui_elements:\n",
        "        center_x, center_y, width, height = calculate_element_properties(element['bounds'])\n",
        "        quadrant = determine_quadrant(center_x, center_y, screen_center_x, screen_center_y)\n",
        "        quadrants[quadrant].append({\n",
        "            'center_x': center_x,\n",
        "            'center_y': center_y,\n",
        "            'width': width,\n",
        "            'height': height\n",
        "        })\n",
        "\n",
        "    normalized_values = {}\n",
        "    for quadrant, elements in quadrants.items():\n",
        "        x_sum = sum(element['center_x'] for element in elements)\n",
        "        y_sum = sum(element['center_y'] for element in elements)\n",
        "        width_sum = sum(element['width'] for element in elements)\n",
        "        height_sum = sum(element['height'] for element in elements)\n",
        "        count = len(elements)\n",
        "        if count > 0:\n",
        "            normalized_values[quadrant] = {\n",
        "                'x': x_sum / count - screen_center_x,\n",
        "                'y': y_sum / count - screen_center_y,\n",
        "                'h': height_sum / count,\n",
        "                'w': width_sum / count,\n",
        "                'theta': sum(abs(element['center_y'] - screen_center_y) for element in elements) / count,\n",
        "                'r': sum((element['center_x'] - screen_center_x)*2 + (element['center_y'] - screen_center_y)2 for element in elements)*0.5 / count\n",
        "            }\n",
        "        else:\n",
        "            normalized_values[quadrant] = None\n",
        "\n",
        "    SYM_vertical, SYM_horizontal, SYM_radial = 0, 0, 0\n",
        "\n",
        "    if normalized_values['UL'] and normalized_values['UR']:\n",
        "        SYM_vertical += (abs(normalized_values['UL']['x'] - normalized_values['UR']['x'])) / (normalized_values['UL']['w'] + normalized_values['UR']['w'])\n",
        "    if normalized_values['LL'] and normalized_values['LR']:\n",
        "        SYM_vertical += (abs(normalized_values['LL']['x'] - normalized_values['LR']['x'])) / (normalized_values['LL']['w'] + normalized_values['LR']['w'])\n",
        "\n",
        "    if normalized_values['UL'] and normalized_values['LL']:\n",
        "        SYM_horizontal += (abs(normalized_values['UL']['y'] - normalized_values['LL']['y'])) / (normalized_values['UL']['h'] + normalized_values['LL']['h'])\n",
        "    if normalized_values['UR'] and normalized_values['LR']:\n",
        "        SYM_horizontal += (abs(normalized_values['UR']['y'] - normalized_values['LR']['y'])) / (normalized_values['UR']['h'] + normalized_values['LR']['h'])\n",
        "\n",
        "    if all(normalized_values[quadrant] is not None for quadrant in ['UL', 'UR', 'LL', 'LR']):\n",
        "        SYM_radial = (normalized_values['UL']['r'] + normalized_values['UR']['r'] + normalized_values['LL']['r'] + normalized_values['LR']['r']) / 12\n",
        "\n",
        "    div = 2 if (SYM_vertical and SYM_horizontal) else 1\n",
        "    overall_symmetry = 1 - ((SYM_vertical + SYM_horizontal) / div + SYM_radial)\n",
        "\n",
        "    return max(0, overall_symmetry)\n",
        "\n",
        "def update_json_file(file_path, symmetry_score):\n",
        "    with open(file_path, 'r') as json_file:\n",
        "        data = json.load(json_file)\n",
        "    data['symmetry_score'] = symmetry_score\n",
        "    with open(file_path, 'w') as json_file:\n",
        "        json.dump(data, json_file, indent=4)\n",
        "\n",
        "def symmetry_score(directory_path):\n",
        "    symmetry_scores = {}\n",
        "    for filename in os.listdir(directory_path):\n",
        "        if filename.endswith('.json'):\n",
        "            file_path = os.path.join(directory_path, filename)\n",
        "            with open(file_path, 'r') as json_file:\n",
        "                data = json.load(json_file)\n",
        "            symmetry_score = calculate_symmetry(data)\n",
        "            symmetry_scores[filename] = symmetry_score\n",
        "            update_json_file(file_path, symmetry_score)\n",
        "    return symmetry_scores"
      ],
      "metadata": {
        "id": "kxb4hGrTXGGG"
      },
      "execution_count": null,
      "outputs": []
    },
    {
      "cell_type": "markdown",
      "source": [
        "5. Balance - Vedika"
      ],
      "metadata": {
        "id": "h7PO81XaQyD6"
      }
    },
    {
      "cell_type": "code",
      "source": [
        "def screen_bounds(json_data):\n",
        "    bounds = json_data['bounds']\n",
        "    left, top, right, bottom = bounds\n",
        "    width = right - left\n",
        "    height = bottom - top\n",
        "    return width, height\n",
        "\n",
        "def parse_annotations(json_data):\n",
        "    objects = []\n",
        "\n",
        "    def parse_children(children):\n",
        "        for item in children:\n",
        "            if 'bounds' in item:\n",
        "                left, top, right, bottom = item['bounds']\n",
        "                width = right - left\n",
        "                height = bottom - top\n",
        "                objects.append({\n",
        "                    'left': left,\n",
        "                    'top': top,\n",
        "                    'width': width,\n",
        "                    'height': height\n",
        "                })\n",
        "            if 'children' in item:\n",
        "                parse_children(item['children'])\n",
        "\n",
        "    parse_children(json_data['children'])\n",
        "    return objects\n",
        "\n",
        "def compute_balance_scores(objects):\n",
        "    screen_width, screen_height = screen_bounds(json_data)\n",
        "    left_area = right_area = top_area = bottom_area = 0\n",
        "    left_distance = right_distance = top_distance = bottom_distance = 0\n",
        "\n",
        "    for obj in objects:\n",
        "        left_area += obj['width'] if obj['left'] < screen_width else 0\n",
        "        right_area += obj['width'] if obj['left'] >= screen_width else 0\n",
        "        top_area += obj['height'] if obj['top'] < screen_height else 0\n",
        "        bottom_area += obj['height'] if obj['top'] >= screen_height else 0\n",
        "\n",
        "        left_distance += abs(obj['left'] + obj['width'] / 2 - screen_width) if obj['left'] < screen_width else 0\n",
        "        right_distance += abs(obj['left'] + obj['width'] / 2 - screen_width) if obj['left'] >= screen_width else 0\n",
        "        top_distance += abs(obj['top'] + obj['height'] / 2 - screen_height) if obj['top'] < screen_height else 0\n",
        "        bottom_distance += abs(obj['top'] + obj['height'] / 2 - screen_height) if obj['top'] >= screen_height else 0\n",
        "\n",
        "    left_weight = left_area / max(left_area, right_area)\n",
        "    right_weight = right_area / max(left_area, right_area)\n",
        "    top_weight = top_area / max(top_area, bottom_area)\n",
        "    bottom_weight = bottom_area / max(top_area, bottom_area)\n",
        "\n",
        "    vertical_balance = abs(left_weight - right_weight)\n",
        "    horizontal_balance = abs(top_weight - bottom_weight)\n",
        "\n",
        "    balance_measure = 1 - (vertical_balance + horizontal_balance) / 2\n",
        "\n",
        "    return balance_measure\n",
        "\n",
        "def balance_score(json_data):\n",
        "    objects = parse_annotations(json_data)\n",
        "    balance_score = compute_balance_scores(objects)\n",
        "    print(\"Balance Score:\", balance_score)\n",
        "    return balance_score"
      ],
      "metadata": {
        "id": "1UW2o-nuYBIS"
      },
      "execution_count": null,
      "outputs": []
    },
    {
      "cell_type": "markdown",
      "source": [
        "**Calculate Everything**"
      ],
      "metadata": {
        "id": "wJ7xkWwCQ5uc"
      }
    },
    {
      "cell_type": "code",
      "source": [
        "output_csv = '.../measures.csv'\n",
        "json_folder = '.../semantic_annotations'\n",
        "image_folder = '...path/to/image/files'\n",
        "\n",
        "page_names = []\n",
        "balance_measures = []\n",
        "colour_measures = []\n",
        "symmetry_measures = []\n",
        "proportion_measures = []\n",
        "density_measures = []\n",
        "\n",
        "progress_bar = tqdm(total=len(os.listdir(json_folder)), desc=\"Processing JSON files\")\n",
        "\n",
        "for filename in os.listdir(json_folder):\n",
        "    if filename.endswith('.json'):\n",
        "        progress_bar.update(1)  # Update progress bar\n",
        "        page_number = filename.split('.')[0]\n",
        "        page_names.append(page_number)\n",
        "\n",
        "        with open(os.path.join(json_folder, filename), 'r', encoding='utf-8') as f:\n",
        "            data = json.load(f)\n",
        "\n",
        "        balance = calculate_balance(data)\n",
        "        balance_measures.append(balance)\n",
        "\n",
        "        proportion = calculate_proportion(data)\n",
        "        proportion_measures.append(proportion)\n",
        "\n",
        "        density = calculate_density_measure(data)\n",
        "        density_measures.append(density)\n",
        "\n",
        "        # Load corresponding image for colour calculation\n",
        "        image_filename = page_number + '.jpg'\n",
        "        image_path = os.path.join(image_folder, image_filename)\n",
        "        if os.path.exists(image_path):\n",
        "            colour = calculate_colorfulness(image_path)\n",
        "            colour_measures.append(colour)\n",
        "        else:\n",
        "            colour_measures.append(None)  # Handle case where image is not found\n",
        "\n",
        "        # Log progress every 1000 pages\n",
        "        if len(page_names) % 1000 == 0:\n",
        "            print(f\"Processed {len(page_names)} pages\")\n",
        "\n",
        "progress_bar.close()\n",
        "\n",
        "# Create a DataFrame to store the results\n",
        "results_df = pd.DataFrame({\n",
        "    'Page': page_names,\n",
        "    'Balance': balance_measures,\n",
        "    'Colour': colour_measures,\n",
        "    'Symmetry': symmetry_measures,\n",
        "    'Proportion': proportion_measures,\n",
        "    'Density': density_measures\n",
        "})\n",
        "\n",
        "# Calculate final score (average of all measures)\n",
        "results_df['Final Score'] = results_df[['Balance', 'Colour', 'Symmetry', 'Proportion', 'Density']].mean(axis=1)\n",
        "\n",
        "# Save results to CSV\n",
        "results_df.to_csv(output_csv, index=False)\n",
        "\n",
        "print(\"Results saved to\", output_csv)"
      ],
      "metadata": {
        "id": "RYAkUpvOQ74Z"
      },
      "execution_count": null,
      "outputs": []
    },
    {
      "cell_type": "markdown",
      "source": [],
      "metadata": {
        "id": "DRW1aTNfQftl"
      }
    }
  ]
}