{
 "cells": [
  {
   "cell_type": "code",
   "execution_count": 1,
   "metadata": {},
   "outputs": [
    {
     "name": "stderr",
     "output_type": "stream",
     "text": [
      "/Applications/Anaconda/anaconda3/lib/python3.9/site-packages/torchvision/io/image.py:13: UserWarning: Failed to load image Python extension: 'dlopen(/Applications/Anaconda/anaconda3/lib/python3.9/site-packages/torchvision/image.so, 0x0006): Symbol not found: __ZN3c1017RegisterOperatorsD1Ev\n",
      "  Referenced from: <9096C4C6-0664-3775-B06F-54E79C6B0E3F> /Applications/Anaconda/anaconda3/lib/python3.9/site-packages/torchvision/image.so\n",
      "  Expected in:     <E459C462-F863-3A5A-AC9F-FD77B14BE845> /Applications/Anaconda/anaconda3/lib/python3.9/site-packages/torch/lib/libtorch_cpu.dylib'If you don't plan on using image functionality from `torchvision.io`, you can ignore this warning. Otherwise, there might be something wrong with your environment. Did you have `libjpeg` or `libpng` installed before building `torchvision` from source?\n",
      "  warn(\n"
     ]
    },
    {
     "name": "stdout",
     "output_type": "stream",
     "text": [
      "Predicted Score: -0.20204216241836548\n"
     ]
    }
   ],
   "source": [
    "import torch\n",
    "import clip\n",
    "\n",
    "# Load CLIP model and the tokenizer\n",
    "device = \"mps\"\n",
    "model, preprocess = clip.load(\"ViT-B/32\")\n",
    "model = model.to(device)\n",
    "\n",
    "# Define the fully connected layer\n",
    "class CLIPWithFC(torch.nn.Module):\n",
    "    def __init__(self, clip_model, output_dim):\n",
    "        super(CLIPWithFC, self).__init__()\n",
    "        self.clip_model = clip_model\n",
    "        self.fc = torch.nn.Linear(clip_model.visual.output_dim * 2, output_dim) # for concatenated dimensions\n",
    "\n",
    "    def forward(self, image, text):\n",
    "        with torch.no_grad():\n",
    "            # Encode image and text with CLIP\n",
    "            image_features = self.clip_model.encode_image(image)\n",
    "            text_features = self.clip_model.encode_text(text)\n",
    "\n",
    "        # Combine embeddings (here, we're just concatenating as both are in the same embedding space)\n",
    "        combined_features = torch.cat((image_features, text_features), dim=1)\n",
    "        \n",
    "        # print(combined_features.shape)\n",
    "        # print(self.clip_model.visual.output_dim)\n",
    "        \n",
    "        # Pass through the fully connected layer\n",
    "        scores = self.fc(combined_features)\n",
    "        return scores\n",
    "\n",
    "# Create the model instance\n",
    "output_dim = 1  # Assuming you want a single score as the output\n",
    "model_with_fc = CLIPWithFC(model, output_dim).to(device)\n",
    "\n",
    "# Example usage\n",
    "from PIL import Image\n",
    "\n",
    "# Prepare input image and text (adapt according to your data)\n",
    "image_path = './10594-screenshot.jpg'\n",
    "image = preprocess(Image.open(image_path)).unsqueeze(0).to(device)\n",
    "text = clip.tokenize([\"Your text description\"]).to(device)\n",
    "\n",
    "# Predict the score\n",
    "model_with_fc.eval()  # Set the model to evaluation mode\n",
    "score = model_with_fc(image, text)\n",
    "print(f'Predicted Score: {score.item()}')"
   ]
  },
  {
   "cell_type": "code",
   "execution_count": 2,
   "metadata": {},
   "outputs": [],
   "source": [
    "import os\n",
    "import pandas as pd\n",
    "from PIL import Image\n",
    "import torch\n",
    "from torch.utils.data import Dataset, DataLoader\n",
    "import torchvision.transforms as transforms\n",
    "\n",
    "class MeasuresDataset(Dataset):\n",
    "    def __init__(self, csv_file, image_dir, transform=None):\n",
    "        self.data = pd.read_csv(csv_file)\n",
    "        self.image_dir = image_dir\n",
    "        self.transform = transform\n",
    "\n",
    "    def __len__(self):\n",
    "        return len(self.data)\n",
    "\n",
    "    def __getitem__(self, idx):\n",
    "        page = str(int(self.data.iloc[idx]['Page']))\n",
    "        label = self.data.iloc[idx]['Final Score']\n",
    "        # text_description = \"hi cat\" # Adjust to your text column\n",
    "        text_description = self.data.iloc[idx]['Description']\n",
    "\n",
    "        img_path = os.path.join(self.image_dir, f\"{page}.jpg\")\n",
    "        # image = Image.open(img_path).convert('RGB')\n",
    "        image = preprocess(Image.open(img_path)).unsqueeze(0).to(device)\n",
    "\n",
    "        # Apply transformations, if provided\n",
    "        # if self.transform:\n",
    "        #     image = self.transform(image)\n",
    "        \n",
    "        image = image.squeeze(0) if image.dim() == 4 else image\n",
    "            \n",
    "        text_description = clip.tokenize([text_description]).to(device)\n",
    "        \n",
    "        text_description = text_description.squeeze(0)\n",
    "\n",
    "        return image, text_description, torch.tensor(label, dtype=torch.float)\n",
    "\n",
    "transform = transforms.Compose([\n",
    "    transforms.Resize((224, 224)),  # Adjust size as per model requirements\n",
    "    transforms.ToTensor()\n",
    "])\n",
    "\n",
    "dataset = MeasuresDataset(csv_file='measures_context.csv', image_dir='./combined', transform=transform)\n",
    "dataloader = DataLoader(dataset, batch_size=32, shuffle=True)"
   ]
  },
  {
   "cell_type": "code",
   "execution_count": 3,
   "metadata": {},
   "outputs": [
    {
     "name": "stdout",
     "output_type": "stream",
     "text": [
      "Epoch [1/5], MSE Loss: 0.0920\n",
      "Epoch [2/5], MSE Loss: 0.0167\n",
      "Epoch [3/5], MSE Loss: 0.0122\n",
      "Epoch [4/5], MSE Loss: 0.0105\n",
      "Epoch [5/5], MSE Loss: 0.0091\n"
     ]
    },
    {
     "data": {
      "image/png": "[encoded data removed]",
      "text/plain": [
       "<Figure size 1000x500 with 1 Axes>"
      ]
     },
     "metadata": {},
     "output_type": "display_data"
    }
   ],
   "source": [
    "import torch\n",
    "import torch.optim as optim\n",
    "import torch.nn as nn\n",
    "import matplotlib.pyplot as plt\n",
    "\n",
    "# Prepare model, loss function, and optimizer\n",
    "device = \"mps\"\n",
    "clip_model, preprocess = clip.load(\"ViT-B/32\")\n",
    "clip_model = clip_model.to(device)\n",
    "model = CLIPWithFC(clip_model, 1)  # Instantiate the CLIP model wrapper\n",
    "model = model.to(device)\n",
    "criterion = nn.MSELoss()\n",
    "optimizer = optim.Adam(model.parameters(), lr=0.001)\n",
    "num_epochs = 5\n",
    "\n",
    "all_epoch_losses = []\n",
    "\n",
    "for epoch in range(num_epochs):\n",
    "    model.train()\n",
    "    epoch_loss = 0\n",
    "    for images, texts, labels in dataloader:\n",
    "        # Move data to GPU if available\n",
    "        images = images.to(device)\n",
    "        texts = texts.to(device)\n",
    "        labels = labels.to(device)\n",
    "        # print(images.shape, texts.shape)\n",
    "        \n",
    "        optimizer.zero_grad()  # Zero the parameter gradients\n",
    "        \n",
    "        # Forward pass\n",
    "        outputs = model(images, texts)\n",
    "        loss = criterion(outputs.squeeze(), labels)\n",
    "        \n",
    "        # Backward pass and optimize\n",
    "        loss.backward()\n",
    "        optimizer.step()\n",
    "        \n",
    "        # Accumulate the loss\n",
    "        epoch_loss += loss.item()\n",
    "    \n",
    "    # Compute and print the average loss for the epoch\n",
    "    avg_loss = epoch_loss / len(dataloader)\n",
    "    all_epoch_losses.append(avg_loss)\n",
    "    print(f\"Epoch [{epoch+1}/{num_epochs}], MSE Loss: {avg_loss:.4f}\")\n",
    "    \n",
    "# Plot the losses\n",
    "plt.figure(figsize=(10, 5))\n",
    "plt.plot(range(1, num_epochs + 1), all_epoch_losses, marker='o', linestyle='-', color='b', label='Training Loss')\n",
    "plt.xlabel('Epoch')\n",
    "plt.ylabel('MSE Loss')\n",
    "plt.title('Training Loss over Epochs')\n",
    "plt.legend()\n",
    "plt.grid(True)\n",
    "plt.show()"
   ]
  },
  {
   "cell_type": "code",
   "execution_count": null,
   "metadata": {},
   "outputs": [],
   "source": [
    "def model_predict_class(image):\n",
    "    score = model(image)\n",
    "    if score < 0.3:\n",
    "        category = \"Very Poor\"\n",
    "    elif score < 0.4:\n",
    "        category = \"Poor\"\n",
    "    elif score < 0.6:\n",
    "        category = \"Fair\"\n",
    "    elif score < 0.8:\n",
    "        category = \"Good\"\n",
    "    else:   \n",
    "        category = \"Very Good\"\n",
    "    return category       "
   ]
  }
 ],
 "metadata": {
  "kernelspec": {
   "display_name": "base",
   "language": "python",
   "name": "python3"
  },
  "language_info": {
   "codemirror_mode": {
    "name": "ipython",
    "version": 3
   },
   "file_extension": ".py",
   "mimetype": "text/x-python",
   "name": "python",
   "nbconvert_exporter": "python",
   "pygments_lexer": "ipython3",
   "version": "3.9.16"
  }
 },
 "nbformat": 4,
 "nbformat_minor": 2
}
