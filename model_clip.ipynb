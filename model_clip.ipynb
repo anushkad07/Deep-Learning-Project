{
 "cells": [
  {
   "cell_type": "code",
   "execution_count": 6,
   "metadata": {},
   "outputs": [],
   "source": [
    "data_file=\"measures_context.csv\"\n",
    "model_name = \"clip_unbalanced.pth\""
   ]
  },
  {
   "cell_type": "code",
   "execution_count": 7,
   "metadata": {},
   "outputs": [
    {
     "name": "stdout",
     "output_type": "stream",
     "text": [
      "Predicted Score: 0.05691894516348839\n"
     ]
    }
   ],
   "source": [
    "import torch\n",
    "import clip\n",
    "\n",
    "# Load CLIP model and the tokenizer\n",
    "device = \"mps\"\n",
    "model, preprocess = clip.load(\"ViT-B/32\")\n",
    "model = model.to(device)\n",
    "\n",
    "# Define the fully connected layer\n",
    "class CLIPWithFC(torch.nn.Module):\n",
    "    def __init__(self, clip_model, output_dim):\n",
    "        super(CLIPWithFC, self).__init__()\n",
    "        self.clip_model = clip_model\n",
    "        self.fc = torch.nn.Linear(clip_model.visual.output_dim * 2, output_dim) # for concatenated dimensions\n",
    "\n",
    "    def forward(self, image, text):\n",
    "        with torch.no_grad():\n",
    "            # Encode image and text with CLIP\n",
    "            image_features = self.clip_model.encode_image(image)\n",
    "            text_features = self.clip_model.encode_text(text)\n",
    "\n",
    "        # Combine embeddings (here, we're just concatenating as both are in the same embedding space)\n",
    "        combined_features = torch.cat((image_features, text_features), dim=1)\n",
    "        \n",
    "        # print(combined_features.shape)\n",
    "        # print(self.clip_model.visual.output_dim)\n",
    "        \n",
    "        # Pass through the fully connected layer\n",
    "        scores = self.fc(combined_features)\n",
    "        return scores\n",
    "\n",
    "# Create the model instance\n",
    "output_dim = 1  # Assuming you want a single score as the output\n",
    "model_with_fc = CLIPWithFC(model, output_dim).to(device)\n",
    "\n",
    "# Example usage\n",
    "from PIL import Image\n",
    "\n",
    "# Prepare input image and text (adapt according to your data)\n",
    "image_path = './10594-screenshot.jpg'\n",
    "image = preprocess(Image.open(image_path)).unsqueeze(0).to(device)\n",
    "text = clip.tokenize([\"Your text description\"]).to(device)\n",
    "\n",
    "# Predict the score\n",
    "model_with_fc.eval()  # Set the model to evaluation mode\n",
    "score = model_with_fc(image, text)\n",
    "print(f'Predicted Score: {score.item()}')"
   ]
  },
  {
   "cell_type": "code",
   "execution_count": 8,
   "metadata": {},
   "outputs": [],
   "source": [
    "import os\n",
    "import pandas as pd\n",
    "from PIL import Image\n",
    "import torch\n",
    "from torch.utils.data import Dataset, DataLoader\n",
    "import torchvision.transforms as transforms\n",
    "\n",
    "class MeasuresDataset(Dataset):\n",
    "    def __init__(self, csv_file, image_dir, transform=None, indices=None):\n",
    "        data = pd.read_csv(csv_file)\n",
    "        if indices is not None:\n",
    "            self.data = data.iloc[indices]\n",
    "        else:\n",
    "            self.data = data\n",
    "        self.image_dir = image_dir\n",
    "        self.transform = transform\n",
    "\n",
    "    def __len__(self):\n",
    "        return len(self.data)\n",
    "\n",
    "    def __getitem__(self, idx):\n",
    "        page = str(int(self.data.iloc[idx]['Page']))\n",
    "        label = self.data.iloc[idx]['Final Score']\n",
    "        # text_description = \"hi cat\" # Adjust to your text column\n",
    "        text_description = self.data.iloc[idx]['Description']\n",
    "\n",
    "        img_path = os.path.join(self.image_dir, f\"{page}.jpg\")\n",
    "        # image = Image.open(img_path).convert('RGB')\n",
    "        image = preprocess(Image.open(img_path)).unsqueeze(0).to(device)\n",
    "\n",
    "        # Apply transformations, if provided\n",
    "        # if self.transform:\n",
    "        #     image = self.transform(image)\n",
    "        \n",
    "        image = image.squeeze(0) if image.dim() == 4 else image\n",
    "            \n",
    "        text_description = clip.tokenize([text_description]).to(device)\n",
    "        \n",
    "        text_description = text_description.squeeze(0)\n",
    "\n",
    "        return image, text_description, torch.tensor(label, dtype=torch.float)\n",
    "\n",
    "\n",
    "\n",
    "# Define transformations\n",
    "transform = transforms.Compose([\n",
    "    transforms.Resize((224, 224)),  # Resize to the size expected by the network\n",
    "    transforms.ToTensor()\n",
    "])\n",
    "# Load dataset\n",
    "dataset = MeasuresDataset(csv_file=data_file, image_dir='./combined', transform=transform)\n",
    "\n",
    "# Splitting data indices for train and test\n",
    "total_size = len(dataset) // 2\n",
    "testsizepercent = 0.2\n",
    "test_size = int(testsizepercent * total_size)\n",
    "train_size = total_size - test_size\n",
    "\n",
    "indices = torch.randperm(total_size).tolist()\n",
    "train_indices = indices[test_size:]\n",
    "test_indices = indices[:test_size]\n",
    "\n",
    "train_dataset = MeasuresDataset(csv_file=data_file, image_dir='./combined', transform=transform, indices=train_indices)\n",
    "test_dataset = MeasuresDataset(csv_file=data_file, image_dir='./combined', transform=transform, indices=test_indices)\n",
    "\n",
    "# Create data loaders\n",
    "dataloader = DataLoader(train_dataset, batch_size=32, shuffle=True)\n",
    "test_loader = DataLoader(test_dataset, batch_size=32, shuffle=False)"
   ]
  },
  {
   "cell_type": "code",
   "execution_count": 9,
   "metadata": {},
   "outputs": [
    {
     "name": "stdout",
     "output_type": "stream",
     "text": [
      "Epoch [1/5], MSE Loss: 0.2353\n",
      "Epoch [2/5], MSE Loss: 0.0555\n",
      "Epoch [3/5], MSE Loss: 0.0261\n",
      "Epoch [4/5], MSE Loss: 0.0174\n",
      "Epoch [5/5], MSE Loss: 0.0133\n"
     ]
    },
    {
     "data": {
      "image/png": "[encoded data removed]",
      "text/plain": [
       "<Figure size 1000x500 with 1 Axes>"
      ]
     },
     "metadata": {},
     "output_type": "display_data"
    }
   ],
   "source": [
    "import torch\n",
    "import torch.optim as optim\n",
    "import torch.nn as nn\n",
    "import matplotlib.pyplot as plt\n",
    "\n",
    "# Prepare model, loss function, and optimizer\n",
    "device = \"mps\"\n",
    "clip_model, preprocess = clip.load(\"ViT-B/32\")\n",
    "clip_model = clip_model.to(device)\n",
    "model = CLIPWithFC(clip_model, 1)  # Instantiate the CLIP model wrapper\n",
    "model = model.to(device)\n",
    "criterion = nn.MSELoss()\n",
    "optimizer = optim.Adam(model.parameters(), lr=0.001)\n",
    "num_epochs = 5\n",
    "\n",
    "all_epoch_losses = []\n",
    "\n",
    "for epoch in range(num_epochs):\n",
    "    model.train()\n",
    "    epoch_loss = 0\n",
    "    for images, texts, labels in dataloader:\n",
    "        # Move data to GPU if available\n",
    "        images = images.to(device)\n",
    "        texts = texts.to(device)\n",
    "        labels = labels.to(device)\n",
    "        # print(images.shape, texts.shape)\n",
    "        \n",
    "        optimizer.zero_grad()  # Zero the parameter gradients\n",
    "        \n",
    "        # Forward pass\n",
    "        outputs = model(images, texts)\n",
    "        loss = criterion(outputs.squeeze(), labels)\n",
    "        \n",
    "        # Backward pass and optimize\n",
    "        loss.backward()\n",
    "        optimizer.step()\n",
    "        \n",
    "        # Accumulate the loss\n",
    "        epoch_loss += loss.item()\n",
    "    \n",
    "    # Compute and print the average loss for the epoch\n",
    "    avg_loss = epoch_loss / len(dataloader)\n",
    "    all_epoch_losses.append(avg_loss)\n",
    "    print(f\"Epoch [{epoch+1}/{num_epochs}], MSE Loss: {avg_loss:.4f}\")\n",
    "    \n",
    "# Plot the losses\n",
    "plt.figure(figsize=(10, 5))\n",
    "plt.plot(range(1, num_epochs + 1), all_epoch_losses, marker='o', linestyle='-', color='b', label='Training Loss')\n",
    "plt.xlabel('Epoch')\n",
    "plt.ylabel('MSE Loss')\n",
    "plt.title('Training Loss over Epochs')\n",
    "plt.legend()\n",
    "plt.grid(True)\n",
    "plt.show()"
   ]
  },
  {
   "cell_type": "code",
   "execution_count": 14,
   "metadata": {},
   "outputs": [
    {
     "name": "stderr",
     "output_type": "stream",
     "text": [
      "Processing Images: 100%|██████████| 5/5 [00:04<00:00,  1.02it/s]"
     ]
    },
    {
     "name": "stdout",
     "output_type": "stream",
     "text": [
      "Confusion Matrix:\n",
      "[[ 2  6  1]\n",
      " [16 66 14]\n",
      " [ 2 20  7]]\n"
     ]
    },
    {
     "name": "stderr",
     "output_type": "stream",
     "text": [
      "\n"
     ]
    }
   ],
   "source": [
    "import numpy as np\n",
    "\n",
    "def get_category(s):\n",
    "    if s <= 0.4:\n",
    "        return \"Poor\"\n",
    "    elif 0.4 < s <= 0.6:\n",
    "        return \"Fair\"\n",
    "    elif 0.6 < s <= 1:\n",
    "        return \"Good\"\n",
    "\n",
    "def model_predict_class(image, model, text):\n",
    "    scores = model(image, text)\n",
    "    scores = scores.squeeze()\n",
    "    categories, ss = [], []\n",
    "    for score in scores:\n",
    "        s = score.item()\n",
    "        if s <= 0.4:\n",
    "            category = \"Poor\"\n",
    "        elif 0.4 < s <= 0.6:\n",
    "            category = \"Fair\"\n",
    "        elif 0.6 < s <= 1:\n",
    "            category = \"Good\"\n",
    "        ss.append(s)\n",
    "        categories.append(category)\n",
    "    return categories, ss\n",
    "\n",
    "def create_confusion_matrix(labels, predictions):\n",
    "    categories = [\"Poor\", \"Fair\", \"Good\"]\n",
    "    confusion_matrix = np.zeros((len(categories), len(categories)), dtype=int)\n",
    "    for i in range(len(labels)):\n",
    "        true_category = labels[i]\n",
    "        pred_category = predictions[i]\n",
    "        true_index = categories.index(true_category)\n",
    "        pred_index = categories.index(pred_category)\n",
    "        confusion_matrix[true_index][pred_index] += 1\n",
    "    return confusion_matrix\n",
    "\n",
    "from tqdm import tqdm\n",
    "\n",
    "# Initialize lists to store labels and predictions\n",
    "true_labels = []\n",
    "predicted_labels = []\n",
    "\n",
    "# Iterate through test_loader with tqdm for progress tracking\n",
    "for images, texts,labels in tqdm(test_loader, desc='Processing Images'):\n",
    "    images, labels = images.to(device), labels.to(device)\n",
    "    output, scores = model_predict_class(images, model, texts)\n",
    "    # Append true labels and predicted labels from each batch\n",
    "    true_labels.extend([get_category(label.item()) for label in labels])\n",
    "    predicted_labels.extend(output)\n",
    "\n",
    "# Calculate confusion matrix\n",
    "conf_matrix = create_confusion_matrix(true_labels, predicted_labels)\n",
    "\n",
    "# Print confusion matrix\n",
    "print(\"Confusion Matrix:\")\n",
    "print(conf_matrix)"
   ]
  },
  {
   "cell_type": "code",
   "execution_count": 15,
   "metadata": {},
   "outputs": [
    {
     "data": {
      "text/plain": [
       "[0.13793103448275865, 0.702127659574468, 0.27450980392156865]"
      ]
     },
     "execution_count": 15,
     "metadata": {},
     "output_type": "execute_result"
    }
   ],
   "source": [
    "def calculate_f1_scores(conf_matrix):\n",
    "    num_classes = conf_matrix.shape[0]\n",
    "    f1_scores = []\n",
    "\n",
    "    # Calculating precision, recall, and F1 score for each class\n",
    "    for i in range(num_classes):\n",
    "        TP = conf_matrix[i, i]\n",
    "        FP = np.sum(conf_matrix[:, i]) - TP\n",
    "        FN = np.sum(conf_matrix[i, :]) - TP\n",
    "        \n",
    "        precision = TP / (TP + FP) if (TP + FP) != 0 else 0\n",
    "        recall = TP / (TP + FN) if (TP + FN) != 0 else 0\n",
    "        f1 = 2 * (precision * recall) / (precision + recall) if (precision + recall) != 0 else 0\n",
    "        \n",
    "        f1_scores.append(f1)\n",
    "\n",
    "    return f1_scores\n",
    "\n",
    "calculate_f1_scores(conf_matrix)"
   ]
  },
  {
   "cell_type": "code",
   "execution_count": 17,
   "metadata": {},
   "outputs": [
    {
     "name": "stderr",
     "output_type": "stream",
     "text": [
      "Processing Images:   0%|          | 0/5 [00:00<?, ?it/s]/Applications/Anaconda/anaconda3/lib/python3.9/site-packages/torch/nn/modules/loss.py:535: UserWarning: Using a target size (torch.Size([32])) that is different to the input size (torch.Size([32, 1])). This will likely lead to incorrect results due to broadcasting. Please ensure they have the same size.\n",
      "  return F.mse_loss(input, target, reduction=self.reduction)\n",
      "Processing Images:  80%|████████  | 4/5 [00:03<00:00,  1.08it/s]/Applications/Anaconda/anaconda3/lib/python3.9/site-packages/torch/nn/modules/loss.py:535: UserWarning: Using a target size (torch.Size([6])) that is different to the input size (torch.Size([6, 1])). This will likely lead to incorrect results due to broadcasting. Please ensure they have the same size.\n",
      "  return F.mse_loss(input, target, reduction=self.reduction)\n",
      "Processing Images: 100%|██████████| 5/5 [00:04<00:00,  1.18it/s]"
     ]
    },
    {
     "name": "stdout",
     "output_type": "stream",
     "text": [
      "Average Test Loss: 0.02461448349058628\n"
     ]
    },
    {
     "name": "stderr",
     "output_type": "stream",
     "text": [
      "\n"
     ]
    }
   ],
   "source": [
    "from tqdm import tqdm\n",
    "\n",
    "# Initialize list to store test losses\n",
    "test_losses = []\n",
    "\n",
    "# Set the model to evaluation mode\n",
    "model.eval()\n",
    "\n",
    "# Iterate through test_loader with tqdm for progress tracking\n",
    "for images, texts,labels in tqdm(test_loader, desc='Processing Images'):\n",
    "    images, labels = images.to(device), labels.to(device)\n",
    "    # Forward pass to get outputs\n",
    "    outputs = model(images, texts)\n",
    "    # Calculate loss\n",
    "    loss = criterion(outputs, labels)\n",
    "    # Append test loss from each batch\n",
    "    test_losses.append(loss.item())\n",
    "\n",
    "# Calculate average test loss\n",
    "average_test_loss = np.mean(test_losses)\n",
    "\n",
    "# Print average test loss\n",
    "print(\"Average Test Loss:\", average_test_loss)"
   ]
  },
  {
   "cell_type": "code",
   "execution_count": null,
   "metadata": {},
   "outputs": [],
   "source": []
  }
 ],
 "metadata": {
  "kernelspec": {
   "display_name": "base",
   "language": "python",
   "name": "python3"
  },
  "language_info": {
   "codemirror_mode": {
    "name": "ipython",
    "version": 3
   },
   "file_extension": ".py",
   "mimetype": "text/x-python",
   "name": "python",
   "nbconvert_exporter": "python",
   "pygments_lexer": "ipython3",
   "version": "3.9.16"
  }
 },
 "nbformat": 4,
 "nbformat_minor": 2
}
