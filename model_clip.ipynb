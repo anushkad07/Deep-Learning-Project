{
 "cells": [
  {
   "cell_type": "code",
   "execution_count": 4,
   "metadata": {},
   "outputs": [
    {
     "name": "stdout",
     "output_type": "stream",
     "text": [
      "torch.Size([1, 1024])\n",
      "512\n",
      "Predicted Score: 0.03832745552062988\n"
     ]
    }
   ],
   "source": [
    "import torch\n",
    "import clip\n",
    "\n",
    "# Load CLIP model and the tokenizer\n",
    "device = \"mps\" if torch.cuda.is_available() else \"cpu\"\n",
    "model, preprocess = clip.load(\"ViT-B/32\", device=device)\n",
    "\n",
    "# Define the fully connected layer\n",
    "class CLIPWithFC(torch.nn.Module):\n",
    "    def __init__(self, clip_model, output_dim):\n",
    "        super(CLIPWithFC, self).__init__()\n",
    "        self.clip_model = clip_model\n",
    "        self.fc = torch.nn.Linear(clip_model.visual.output_dim * 2, output_dim) # for concatenated dimensions\n",
    "\n",
    "    def forward(self, image, text):\n",
    "        with torch.no_grad():\n",
    "            # Encode image and text with CLIP\n",
    "            image_features = self.clip_model.encode_image(image)\n",
    "            text_features = self.clip_model.encode_text(text)\n",
    "\n",
    "        # Combine embeddings (here, we're just concatenating as both are in the same embedding space)\n",
    "        combined_features = torch.cat((image_features, text_features), dim=1)\n",
    "        \n",
    "        print(combined_features.shape)\n",
    "        print(self.clip_model.visual.output_dim)\n",
    "        \n",
    "        # Pass through the fully connected layer\n",
    "        scores = self.fc(combined_features)\n",
    "        return scores\n",
    "\n",
    "# Create the model instance\n",
    "output_dim = 1  # Assuming you want a single score as the output\n",
    "model_with_fc = CLIPWithFC(model, output_dim).to(device)\n",
    "\n",
    "# Example usage\n",
    "from PIL import Image\n",
    "\n",
    "# Prepare input image and text (adapt according to your data)\n",
    "image_path = './10594-screenshot.jpg'\n",
    "image = preprocess(Image.open(image_path)).unsqueeze(0).to(device)\n",
    "text = clip.tokenize([\"Your text description\"]).to(device)\n",
    "\n",
    "# Predict the score\n",
    "model_with_fc.eval()  # Set the model to evaluation mode\n",
    "score = model_with_fc(image, text)\n",
    "print(f'Predicted Score: {score.item()}')"
   ]
  },
  {
   "cell_type": "code",
   "execution_count": null,
   "metadata": {},
   "outputs": [],
   "source": []
  }
 ],
 "metadata": {
  "kernelspec": {
   "display_name": "base",
   "language": "python",
   "name": "python3"
  },
  "language_info": {
   "codemirror_mode": {
    "name": "ipython",
    "version": 3
   },
   "file_extension": ".py",
   "mimetype": "text/x-python",
   "name": "python",
   "nbconvert_exporter": "python",
   "pygments_lexer": "ipython3",
   "version": "3.9.16"
  }
 },
 "nbformat": 4,
 "nbformat_minor": 2
}
