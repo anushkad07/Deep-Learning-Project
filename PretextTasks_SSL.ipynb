{
 "cells": [
  {
   "cell_type": "markdown",
   "metadata": {},
   "source": [
    "<h3> Pretext Task </h3>"
   ]
  },
  {
   "cell_type": "code",
   "execution_count": null,
   "metadata": {},
   "outputs": [],
   "source": [
    "import torch\n",
    "import torch.nn as nn\n",
    "import torch.optim as optim\n",
    "import torchvision.models as models\n",
    "\n",
    "# Define a pretext task network\n",
    "class PretextTaskModel(nn.Module):\n",
    "    def __init__(self, num_classes):\n",
    "        super(PretextTaskModel, self).__init__()\n",
    "        self.resnet = models.resnet18(pretrained=True)\n",
    "        self.fc = nn.Linear(512, num_classes)  # Adjust output size for your context labels\n",
    "\n",
    "    def forward(self, x):\n",
    "        x = self.resnet(x)\n",
    "        x = self.fc(x)\n",
    "        return x\n",
    "\n",
    "# Define pretext task loss function\n",
    "pretext_criterion = nn.CrossEntropyLoss()\n",
    "\n",
    "# Initialize pretext task model\n",
    "pretext_model = PretextTaskModel(num_classes=20)\n",
    "\n",
    "# Set device\n",
    "device = torch.device(\"cuda\" if torch.cuda.is_available() else \"cpu\")\n",
    "pretext_model.to(device)"
   ]
  },
  {
   "cell_type": "markdown",
   "metadata": {},
   "source": [
    "<h3> Training Pretext on Unlabeled Data </h3>"
   ]
  },
  {
   "cell_type": "code",
   "execution_count": null,
   "metadata": {},
   "outputs": [],
   "source": [
    "# Define dataloader for unlabeled data (images without context labels)\n",
    "# You need to implement a DataLoader for your unlabeled data\n",
    "\n",
    "# Define optimizer\n",
    "pretext_optimizer = optim.Adam(pretext_model.parameters(), lr=0.001)\n",
    "\n",
    "# Train pretext task model\n",
    "for epoch in range(num_epochs):\n",
    "    for images, context_labels in unlabeled_dataloader:\n",
    "        images = images.to(device)\n",
    "        context_labels = context_labels.to(device)\n",
    "        \n",
    "        # Zero the gradients\n",
    "        pretext_optimizer.zero_grad()\n",
    "        \n",
    "        # Forward pass\n",
    "        outputs = pretext_model(images)\n",
    "        \n",
    "        # Calculate pretext task loss\n",
    "        loss = pretext_criterion(outputs, context_labels)\n",
    "        \n",
    "        # Backward pass\n",
    "        loss.backward()\n",
    "        \n",
    "        # Optimize\n",
    "        pretext_optimizer.step()\n"
   ]
  }
 ],
 "metadata": {
  "language_info": {
   "name": "python"
  }
 },
 "nbformat": 4,
 "nbformat_minor": 2
}
